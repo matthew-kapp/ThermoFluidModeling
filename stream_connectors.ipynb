{
 "cells": [
  {
   "cell_type": "code",
   "execution_count": 26,
   "metadata": {},
   "outputs": [],
   "source": [
    "using ModelingToolkit, OrdinaryDiffEq\n",
    "using ModelingToolkit: t_nounits as t"
   ]
  },
  {
   "cell_type": "code",
   "execution_count": 27,
   "metadata": {},
   "outputs": [],
   "source": [
    "# Components\n",
    "@connector FluidPort begin\n",
    "    @variables begin\n",
    "        (h(t) = 1e5), [connect = Stream]\n",
    "        (ṁ(t) = 1e5), [connect = Flow]\n",
    "        p(t)\n",
    "    end\n",
    "end\n",
    "\n",
    "@mtkmodel Source begin\n",
    "    @parameters begin\n",
    "        h_source\n",
    "        p_source\n",
    "        ṁ_source\n",
    "    end\n",
    "\n",
    "    @components begin\n",
    "        outlet = FluidPort()\n",
    "    end\n",
    "\n",
    "    @equations begin\n",
    "        outlet.h ~ h_source\n",
    "        outlet.p ~ p_source\n",
    "        outlet.ṁ ~ ṁ_source\n",
    "    end\n",
    "end\n",
    "\n",
    "@mtkmodel Sink begin\n",
    "    @components begin\n",
    "        inlet = FluidPort()\n",
    "    end\n",
    "end\n",
    "\n",
    "# system\n",
    "@mtkmodel System begin\n",
    "    @parameters begin\n",
    "        h_source\n",
    "        p_source\n",
    "        ṁ_source\n",
    "    end\n",
    "\n",
    "    @components begin\n",
    "        source = Source(; h_source=h_source, p_source=p_source, ṁ_source)\n",
    "        sink = Sink()\n",
    "    end\n",
    "\n",
    "    @equations begin\n",
    "        connect(source.outlet, sink.inlet)\n",
    "    end\n",
    "end;"
   ]
  },
  {
   "cell_type": "code",
   "execution_count": 28,
   "metadata": {},
   "outputs": [],
   "source": [
    "h_in = 1e5\n",
    "p_in = 1e5\n",
    "ṁ = 1e-3;"
   ]
  },
  {
   "cell_type": "code",
   "execution_count": 29,
   "metadata": {},
   "outputs": [
    {
     "data": {
      "text/latex": [
       "$$ \\begin{equation}\n",
       "\\left[\n",
       "\\begin{array}{c}\n",
       "\\mathrm{connect}\\left( source_{+}outlet, sink_{+}inlet \\right) \\\\\n",
       "\\mathtt{source.outlet.h}\\left( t \\right) = \\mathtt{source.h\\_source} \\\\\n",
       "\\mathtt{source.outlet.p}\\left( t \\right) = \\mathtt{source.p\\_source} \\\\\n",
       "\\mathtt{source.outlet.\\dot{m}}\\left( t \\right) = \\mathtt{source.\\dot{m}\\_source} \\\\\n",
       "\\end{array}\n",
       "\\right]\n",
       "\\end{equation}\n",
       " $$"
      ],
      "text/plain": [
       "\u001b[0m\u001b[1mModel sys_:\u001b[22m\n",
       "\u001b[0m\u001b[1mSubsystems (2):\u001b[22m see hierarchy(sys_)\n",
       "  source\n",
       "  sink\n",
       "\u001b[0m\u001b[1mEquations (5):\u001b[22m\n",
       "  3 standard: see equations(sys_)\n",
       "  2 connecting: see equations(expand_connections(sys_))\n",
       "\u001b[0m\u001b[1mUnknowns (6):\u001b[22m see unknowns(sys_)\n",
       "  source₊outlet₊h(t) [defaults to 100000.0]\n",
       "  source₊outlet₊ṁ(t) [defaults to 100000.0]\n",
       "  source₊outlet₊p(t)\n",
       "  sink₊inlet₊h(t) [defaults to 100000.0]\n",
       "\u001b[0m  ⋮\n",
       "\u001b[0m\u001b[1mParameters (6):\u001b[22m see parameters(sys_)\n",
       "  h_source [defaults to 100000.0]\n",
       "  p_source [defaults to 100000.0]\n",
       "  ṁ_source [defaults to 0.001]\n",
       "  source₊h_source [defaults to h_source]\n",
       "\u001b[0m  ⋮"
      ]
     },
     "metadata": {},
     "output_type": "display_data"
    }
   ],
   "source": [
    "@named sys_ = System(; h_source=h_in, p_source=p_in, ṁ_source=ṁ)"
   ]
  },
  {
   "cell_type": "code",
   "execution_count": 30,
   "metadata": {},
   "outputs": [
    {
     "data": {
      "text/latex": [
       "$$ \\begin{align}\n",
       "\\mathtt{source.outlet.h}\\left( t \\right) &= \\mathtt{source.h\\_source} \\\\\n",
       "\\mathtt{source.outlet.p}\\left( t \\right) &= \\mathtt{source.p\\_source} \\\\\n",
       "\\mathtt{source.outlet.\\dot{m}}\\left( t \\right) &= \\mathtt{source.\\dot{m}\\_source} \\\\\n",
       "0 &= \\mathtt{source.outlet.\\dot{m}}\\left( t \\right) + \\mathtt{sink.inlet.\\dot{m}}\\left( t \\right) \\\\\n",
       "\\mathtt{source.outlet.p}\\left( t \\right) &= \\mathtt{sink.inlet.p}\\left( t \\right)\n",
       "\\end{align}\n",
       " $$"
      ],
      "text/plain": [
       "\u001b[0m\u001b[1mModel sys_:\u001b[22m\n",
       "\u001b[0m\u001b[1mEquations (5):\u001b[22m\n",
       "  5 standard: see equations(sys_)\n",
       "\u001b[0m\u001b[1mUnknowns (6):\u001b[22m see unknowns(sys_)\n",
       "  source₊outlet₊h(t) [defaults to 100000.0]\n",
       "  source₊outlet₊ṁ(t) [defaults to 100000.0]\n",
       "  source₊outlet₊p(t)\n",
       "  sink₊inlet₊h(t) [defaults to 100000.0]\n",
       "\u001b[0m  ⋮\n",
       "\u001b[0m\u001b[1mParameters (6):\u001b[22m see parameters(sys_)\n",
       "  source₊h_source [defaults to h_source]\n",
       "  source₊p_source [defaults to p_source]\n",
       "  ṁ_source [defaults to 0.001]\n",
       "  h_source [defaults to 100000.0]\n",
       "\u001b[0m  ⋮"
      ]
     },
     "metadata": {},
     "output_type": "display_data"
    }
   ],
   "source": [
    "sys = complete(sys_)"
   ]
  }
 ],
 "metadata": {
  "kernelspec": {
   "display_name": "Julia 1.11.5",
   "language": "julia",
   "name": "julia-1.11"
  },
  "language_info": {
   "file_extension": ".jl",
   "mimetype": "application/julia",
   "name": "julia",
   "version": "1.11.5"
  }
 },
 "nbformat": 4,
 "nbformat_minor": 2
}
