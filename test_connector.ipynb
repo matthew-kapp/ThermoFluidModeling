{
 "cells": [
  {
   "cell_type": "code",
   "execution_count": 1,
   "metadata": {},
   "outputs": [],
   "source": [
    "using ModelingToolkit, OrdinaryDiffEq\n",
    "using ModelingToolkit: t_nounits as t\n",
    "using CoolProp.CoolProp\n",
    "using CoolProp.CoolProp: PropsSI\n",
    "using BenchmarkTools"
   ]
  },
  {
   "cell_type": "code",
   "execution_count": 2,
   "metadata": {},
   "outputs": [],
   "source": [
    "# Helper functions\n",
    "function calc_T(h, p, fluid_model)\n",
    "    HP_inputs = get_input_pair_index(\"HmassP_INPUTS\")\n",
    "    AbstractState_update(Int32(fluid_model), HP_inputs, Real(h), Real(p))\n",
    "    property_index = get_param_index(\"T\")\n",
    "    T = AbstractState_keyed_output(Int32(fluid_model), property_index)\n",
    "    return T\n",
    "end\n",
    "\n",
    "@register_symbolic calc_T(h::Real, p::Real, fluid_model::Int32);"
   ]
  },
  {
   "cell_type": "code",
   "execution_count": 3,
   "metadata": {},
   "outputs": [],
   "source": [
    "# Helper functions\n",
    "function calc_fluid_state(h, p, fluid_model)\n",
    "    HP_inputs = get_input_pair_index(\"HmassP_INPUTS\")\n",
    "    AbstractState_update(Int32(fluid_model), HP_inputs, Real(h), Real(p))\n",
    "    return fluid_model\n",
    "end\n",
    "\n",
    "function calc_fluid_property(property::String, fluid_state)\n",
    "    property_index = get_param_index(property)\n",
    "    return AbstractState_keyed_output(Int32(fluid_state), property_index)\n",
    "end\n",
    "\n",
    "# Register with more specific types for symbolic computation\n",
    "@register_symbolic calc_fluid_state(h::Real, p::Real, fluid_model::Int32)\n",
    "@register_symbolic calc_fluid_property(property::String, fluid_state::Int32)"
   ]
  },
  {
   "cell_type": "code",
   "execution_count": 4,
   "metadata": {},
   "outputs": [],
   "source": [
    "@connector FluidPort begin\n",
    "    @parameters begin\n",
    "        fluid_model\n",
    "    end\n",
    "\n",
    "    @variables begin\n",
    "        h(t), [guess=0.0]\n",
    "        p(t), [guess=0.0]\n",
    "        ṁ(t), [guess=0.0, connect = Flow]\n",
    "    end\n",
    "end\n",
    "\n",
    "@connector FluidProperties begin\n",
    "    @parameters begin\n",
    "        fluid_model\n",
    "    end\n",
    "\n",
    "    @variables begin\n",
    "        ṁ(t), [guess=0.0, connect = Flow]\n",
    "    end\n",
    "\n",
    "    @equations begin\n",
    "        ṁ ~ 0\n",
    "    end\n",
    "end\n",
    "\n",
    "@mtkmodel Source begin\n",
    "    @parameters begin\n",
    "        h_source\n",
    "        p_source\n",
    "        ṁ_source\n",
    "    end\n",
    "\n",
    "    @components begin\n",
    "        outlet = FluidPort()\n",
    "    end\n",
    "\n",
    "    @equations begin\n",
    "        outlet.h ~ h_source\n",
    "        outlet.p ~ p_source\n",
    "        outlet.ṁ ~ ṁ_source\n",
    "    end\n",
    "end\n",
    "\n",
    "@mtkmodel Sink begin\n",
    "    @components begin\n",
    "        inlet = FluidPort()\n",
    "    end\n",
    "\n",
    "    @variables begin\n",
    "        T(t)\n",
    "        state(t)\n",
    "    end\n",
    "\n",
    "    @equations begin\n",
    "        state ~ calc_fluid_state(inlet.h, inlet.p, inlet.fluid_model)\n",
    "        T ~ calc_fluid_property(\"T\", state)\n",
    "    end\n",
    "end\n",
    "\n",
    "@mtkmodel System begin\n",
    "    @parameters begin\n",
    "        h_source\n",
    "        p_source\n",
    "        ṁ_source\n",
    "        fluid_model::Int32\n",
    "    end\n",
    "\n",
    "    @components begin\n",
    "        properties = FluidProperties(; fluid_model=fluid_model)\n",
    "        source = Source(; h_source=h_source, p_source=p_source, ṁ_source=ṁ_source)\n",
    "        sink = Sink()\n",
    "    end\n",
    "\n",
    "    @variables begin\n",
    "        T(t)\n",
    "    end\n",
    "\n",
    "    @equations begin\n",
    "        connect(properties, source.outlet)\n",
    "        connect(source.outlet, sink.inlet)\n",
    "        T ~ sink.T\n",
    "    end\n",
    "end;"
   ]
  },
  {
   "cell_type": "code",
   "execution_count": 5,
   "metadata": {},
   "outputs": [],
   "source": [
    "# \n",
    "fluid_name = \"Hydrogen\"\n",
    "eos = \"HEOS\"\n",
    "fluid_model = AbstractState_factory(eos, fluid_name)\n",
    "\n",
    "# \n",
    "ṁ_source = 10e-3            # kg/s\n",
    "T_source = 70               # K\n",
    "p_source = 350e5           # Pa\n",
    "h_source = PropsSI(\"H\", \"T\", T_source, \"P\", p_source, fluid_name)\n",
    "ṁ_source = 10e-3;"
   ]
  },
  {
   "cell_type": "code",
   "execution_count": 6,
   "metadata": {},
   "outputs": [
    {
     "data": {
      "text/plain": [
       "0"
      ]
     },
     "metadata": {},
     "output_type": "display_data"
    }
   ],
   "source": [
    "fluid_state = calc_fluid_state(h_source, p_source, fluid_model)"
   ]
  },
  {
   "cell_type": "code",
   "execution_count": 7,
   "metadata": {},
   "outputs": [
    {
     "data": {
      "text/plain": [
       "67.30013202474397"
      ]
     },
     "metadata": {},
     "output_type": "display_data"
    }
   ],
   "source": [
    "calc_fluid_property(\"D\", fluid_state)"
   ]
  },
  {
   "cell_type": "code",
   "execution_count": 8,
   "metadata": {},
   "outputs": [
    {
     "name": "stderr",
     "output_type": "stream",
     "text": [
      "┌ Warning: outlet contains 1 flow variables, yet 2 regular (non-flow, non-stream, non-input, non-output) variables. This could lead to imbalanced model that are difficult to debug. Consider marking some of the regular variables as input/output variables.\n",
      "└ @ ModelingToolkit C:\\Users\\matth\\.julia\\packages\\ModelingToolkit\\aau6A\\src\\systems\\connectors.jl:54\n",
      "┌ Warning: inlet contains 1 flow variables, yet 2 regular (non-flow, non-stream, non-input, non-output) variables. This could lead to imbalanced model that are difficult to debug. Consider marking some of the regular variables as input/output variables.\n",
      "└ @ ModelingToolkit C:\\Users\\matth\\.julia\\packages\\ModelingToolkit\\aau6A\\src\\systems\\connectors.jl:54\n"
     ]
    },
    {
     "data": {
      "text/latex": [
       "$$ \\begin{equation}\n",
       "\\left[\n",
       "\\begin{array}{c}\n",
       "\\mathrm{connect}\\left( properties, source_{+}outlet \\right) \\\\\n",
       "\\mathrm{connect}\\left( source_{+}outlet, sink_{+}inlet \\right) \\\\\n",
       "T\\left( t \\right) = \\mathtt{sink.T}\\left( t \\right) \\\\\n",
       "\\mathtt{properties.\\dot{m}}\\left( t \\right) = 0 \\\\\n",
       "\\mathtt{source.outlet.h}\\left( t \\right) = \\mathtt{source.h\\_source} \\\\\n",
       "\\mathtt{source.outlet.p}\\left( t \\right) = \\mathtt{source.p\\_source} \\\\\n",
       "\\mathtt{source.outlet.\\dot{m}}\\left( t \\right) = \\mathtt{source.\\dot{m}\\_source} \\\\\n",
       "\\mathtt{sink.state}\\left( t \\right) = calc\\_fluid\\_state\\left( \\mathtt{sink.inlet.h}\\left( t \\right), \\mathtt{sink.inlet.p}\\left( t \\right), \\mathtt{sink.inlet.fluid\\_model} \\right) \\\\\n",
       "\\mathtt{sink.T}\\left( t \\right) = calc\\_fluid\\_property\\left( T, \\mathtt{sink.state}\\left( t \\right) \\right) \\\\\n",
       "\\end{array}\n",
       "\\right]\n",
       "\\end{equation}\n",
       " $$"
      ],
      "text/plain": [
       "\u001b[0m\u001b[1mModel sys_:\u001b[22m\n",
       "\u001b[0m\u001b[1mSubsystems (3):\u001b[22m see hierarchy(sys_)\n",
       "  properties\n",
       "  source\n",
       "  sink\n",
       "\u001b[0m\u001b[1mEquations (10):\u001b[22m\n",
       "  7 standard: see equations(sys_)\n",
       "  3 connecting: see equations(expand_connections(sys_))\n",
       "\u001b[0m\u001b[1mUnknowns (10):\u001b[22m see unknowns(sys_)\n",
       "  T(t)\n",
       "  properties₊ṁ(t)\n",
       "  source₊outlet₊h(t)\n",
       "  source₊outlet₊p(t)\n",
       "\u001b[0m  ⋮\n",
       "\u001b[0m\u001b[1mParameters (10):\u001b[22m see parameters(sys_)\n",
       "  h_source [defaults to 865483.0]\n",
       "  p_source [defaults to 3.5e7]\n",
       "  ṁ_source [defaults to 0.01]\n",
       "  fluid_model [defaults to 0]\n",
       "\u001b[0m  ⋮"
      ]
     },
     "metadata": {},
     "output_type": "display_data"
    }
   ],
   "source": [
    "@named sys_ = System(; h_source=h_source, p_source=p_source, \n",
    "ṁ_source=ṁ_source, fluid_model=fluid_model)"
   ]
  },
  {
   "cell_type": "code",
   "execution_count": 9,
   "metadata": {},
   "outputs": [
    {
     "data": {
      "text/latex": [
       "$$ \\begin{align}\n",
       "T\\left( t \\right) &= \\mathtt{sink.T}\\left( t \\right) \\\\\n",
       "\\mathtt{properties.\\dot{m}}\\left( t \\right) &= 0 \\\\\n",
       "\\mathtt{source.outlet.h}\\left( t \\right) &= \\mathtt{source.h\\_source} \\\\\n",
       "\\mathtt{source.outlet.p}\\left( t \\right) &= \\mathtt{source.p\\_source} \\\\\n",
       "\\mathtt{source.outlet.\\dot{m}}\\left( t \\right) &= \\mathtt{source.\\dot{m}\\_source} \\\\\n",
       "\\mathtt{sink.state}\\left( t \\right) &= calc\\_fluid\\_state\\left( \\mathtt{sink.inlet.h}\\left( t \\right), \\mathtt{sink.inlet.p}\\left( t \\right), \\mathtt{sink.inlet.fluid\\_model} \\right) \\\\\n",
       "\\mathtt{sink.T}\\left( t \\right) &= calc\\_fluid\\_property\\left( T, \\mathtt{sink.state}\\left( t \\right) \\right) \\\\\n",
       "0 &= \\mathtt{source.outlet.\\dot{m}}\\left( t \\right) + \\mathtt{sink.inlet.\\dot{m}}\\left( t \\right) + \\mathtt{properties.\\dot{m}}\\left( t \\right) \\\\\n",
       "\\mathtt{source.outlet.h}\\left( t \\right) &= \\mathtt{sink.inlet.h}\\left( t \\right) \\\\\n",
       "\\mathtt{source.outlet.p}\\left( t \\right) &= \\mathtt{sink.inlet.p}\\left( t \\right)\n",
       "\\end{align}\n",
       " $$"
      ],
      "text/plain": [
       "\u001b[0m\u001b[1mModel sys_:\u001b[22m\n",
       "\u001b[0m\u001b[1mEquations (10):\u001b[22m\n",
       "  10 standard: see equations(sys_)\n",
       "\u001b[0m\u001b[1mUnknowns (10):\u001b[22m see unknowns(sys_)\n",
       "  T(t)\n",
       "  properties₊ṁ(t)\n",
       "  source₊outlet₊h(t)\n",
       "  source₊outlet₊p(t)\n",
       "\u001b[0m  ⋮\n",
       "\u001b[0m\u001b[1mParameters (10):\u001b[22m see parameters(sys_)\n",
       "  source₊h_source [defaults to h_source]\n",
       "  source₊p_source [defaults to p_source]\n",
       "  ṁ_source [defaults to 0.01]\n",
       "  source₊outlet₊fluid_model [defaults to properties₊fluid_model]\n",
       "\u001b[0m  ⋮"
      ]
     },
     "metadata": {},
     "output_type": "display_data"
    }
   ],
   "source": [
    "complete_ = complete(sys_)"
   ]
  },
  {
   "cell_type": "code",
   "execution_count": 10,
   "metadata": {},
   "outputs": [
    {
     "data": {
      "text/latex": [
       "$$ \\begin{align}\n",
       "\\end{align}\n",
       " $$"
      ],
      "text/plain": [
       "\u001b[0m\u001b[1mModel sys_:\u001b[22m\n",
       "\u001b[0m\u001b[1mParameters (10):\u001b[22m see parameters(sys_)\n",
       "  source₊h_source [defaults to h_source]\n",
       "  source₊p_source [defaults to p_source]\n",
       "  ṁ_source [defaults to 0.01]\n",
       "  source₊outlet₊fluid_model [defaults to properties₊fluid_model]\n",
       "\u001b[0m  ⋮\n",
       "\u001b[0m\u001b[1mObserved (10):\u001b[22m see observed(sys_)"
      ]
     },
     "metadata": {},
     "output_type": "display_data"
    }
   ],
   "source": [
    "sys = structural_simplify(sys_)"
   ]
  },
  {
   "cell_type": "code",
   "execution_count": 11,
   "metadata": {},
   "outputs": [],
   "source": [
    "prob = ODEProblem(sys, [], (0, 10.0));"
   ]
  },
  {
   "cell_type": "code",
   "execution_count": 12,
   "metadata": {},
   "outputs": [
    {
     "data": {
      "text/plain": [
       "retcode: Success\n",
       "Interpolation: 1st order linear\n",
       "t: 2-element Vector{Float64}:\n",
       "  0.0\n",
       " 10.0\n",
       "u: 2-element Vector{Vector{Float64}}:\n",
       " []\n",
       " []"
      ]
     },
     "metadata": {},
     "output_type": "display_data"
    }
   ],
   "source": [
    "sol = solve(prob, Tsit5())"
   ]
  },
  {
   "cell_type": "code",
   "execution_count": 13,
   "metadata": {},
   "outputs": [
    {
     "name": "stdout",
     "output_type": "stream",
     "text": [
      "69.99999999999423\n"
     ]
    }
   ],
   "source": [
    "println(sol[sys.T][end])"
   ]
  }
 ],
 "metadata": {
  "kernelspec": {
   "display_name": "Julia 1.11.5",
   "language": "julia",
   "name": "julia-1.11"
  },
  "language_info": {
   "file_extension": ".jl",
   "mimetype": "application/julia",
   "name": "julia",
   "version": "1.11.5"
  }
 },
 "nbformat": 4,
 "nbformat_minor": 2
}
