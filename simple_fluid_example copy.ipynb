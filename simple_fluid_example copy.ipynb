{
 "cells": [
  {
   "cell_type": "code",
   "execution_count": 50,
   "metadata": {},
   "outputs": [],
   "source": [
    "using ModelingToolkit, OrdinaryDiffEq, Clapeyron\n",
    "using ModelingToolkit: t_nounits as t\n",
    "using CoolProp.CoolProp: PropsSI"
   ]
  },
  {
   "cell_type": "code",
   "execution_count": 51,
   "metadata": {},
   "outputs": [],
   "source": [
    "## Clapeyron not working\n",
    "\n",
    "# Helper functions\n",
    "function calc_ρ(T, p, fluid_model)\n",
    "    return mass_density(fluid_model, p, T)\n",
    "end\n",
    "\n",
    "function create_fluid_model(fluid_name)\n",
    "    return SingleFluid(fluid_name)\n",
    "end\n",
    "\n",
    "@register_symbolic calc_ρ(T::Real, p::Real, fluid_model)\n",
    "@register_symbolic create_fluid_model(fluid_name::String)\n",
    "\n",
    "# Fluid parameters\n",
    "fluid_name = \"Hydrogen\"\n",
    "T_in = 70               # K\n",
    "p_in = 350e5           # Pa\n",
    "\n",
    "# MTK model\n",
    "@mtkmodel DensityCalc begin\n",
    "\n",
    "    @parameters begin\n",
    "        T\n",
    "        p\n",
    "        fluid_name::String\n",
    "    end\n",
    "\n",
    "    @variables begin\n",
    "        ρ(t)\n",
    "    end\n",
    "\n",
    "    begin\n",
    "        fluid_model = create_fluid_model(fluid_name)\n",
    "    end\n",
    "\n",
    "    @equations begin\n",
    "        ρ ~ calc_ρ(T, p, fluid_model)\n",
    "    end\n",
    "end;"
   ]
  },
  {
   "cell_type": "code",
   "execution_count": 52,
   "metadata": {},
   "outputs": [
    {
     "data": {
      "text/latex": [
       "$$ \\begin{align}\n",
       "\\rho\\left( t \\right) &= calc\\_\\rho\\left( T, p, create\\_fluid\\_model\\left( \\mathtt{fluid\\_name} \\right) \\right)\n",
       "\\end{align}\n",
       " $$"
      ],
      "text/plain": [
       "\u001b[0m\u001b[1mModel sys_:\u001b[22m\n",
       "\u001b[0m\u001b[1mEquations (1):\u001b[22m\n",
       "  1 standard: see equations(sys_)\n",
       "\u001b[0m\u001b[1mUnknowns (1):\u001b[22m see unknowns(sys_)\n",
       "  ρ(t)\n",
       "\u001b[0m\u001b[1mParameters (3):\u001b[22m see parameters(sys_)\n",
       "  T [defaults to 70]\n",
       "  p [defaults to 3.5e7]\n",
       "  fluid_name [defaults to \"Hydrogen\"]"
      ]
     },
     "metadata": {},
     "output_type": "display_data"
    }
   ],
   "source": [
    "@named sys_ = DensityCalc(; T=T_in, p=p_in, fluid_name=fluid_name)"
   ]
  },
  {
   "cell_type": "code",
   "execution_count": 53,
   "metadata": {},
   "outputs": [
    {
     "data": {
      "text/latex": [
       "$$ \\begin{align}\n",
       "\\rho\\left( t \\right) &= calc\\_\\rho\\left( T, p, create\\_fluid\\_model\\left( \\mathtt{fluid\\_name} \\right) \\right)\n",
       "\\end{align}\n",
       " $$"
      ],
      "text/plain": [
       "\u001b[0m\u001b[1mModel sys_:\u001b[22m\n",
       "\u001b[0m\u001b[1mEquations (1):\u001b[22m\n",
       "  1 standard: see equations(sys_)\n",
       "\u001b[0m\u001b[1mUnknowns (1):\u001b[22m see unknowns(sys_)\n",
       "  ρ(t)\n",
       "\u001b[0m\u001b[1mParameters (3):\u001b[22m see parameters(sys_)\n",
       "  p [defaults to 3.5e7]\n",
       "  T [defaults to 70]\n",
       "  fluid_name [defaults to \"Hydrogen\"]"
      ]
     },
     "metadata": {},
     "output_type": "display_data"
    }
   ],
   "source": [
    "sys = complete(sys_)"
   ]
  },
  {
   "cell_type": "code",
   "execution_count": 54,
   "metadata": {},
   "outputs": [
    {
     "data": {
      "text/latex": [
       "$$ \\begin{align}\n",
       "\\end{align}\n",
       " $$"
      ],
      "text/plain": [
       "\u001b[0m\u001b[1mModel sys_:\u001b[22m\n",
       "\u001b[0m\u001b[1mParameters (3):\u001b[22m see parameters(sys_)\n",
       "  p [defaults to 3.5e7]\n",
       "  T [defaults to 70]\n",
       "  fluid_name [defaults to \"Hydrogen\"]\n",
       "\u001b[0m\u001b[1mObserved (1):\u001b[22m see observed(sys_)"
      ]
     },
     "metadata": {},
     "output_type": "display_data"
    }
   ],
   "source": [
    "sys = structural_simplify(sys_)"
   ]
  },
  {
   "cell_type": "code",
   "execution_count": 55,
   "metadata": {},
   "outputs": [
    {
     "name": "stdout",
     "output_type": "stream",
     "text": [
      "67.30013202474127\n"
     ]
    }
   ],
   "source": [
    "prob = ODEProblem(sys, [], (0, 10.0))\n",
    "sol = solve(prob, Tsit5())\n",
    "println(sol[sys.ρ][end])"
   ]
  }
 ],
 "metadata": {
  "kernelspec": {
   "display_name": "Julia 1.11.5",
   "language": "julia",
   "name": "julia-1.11"
  },
  "language_info": {
   "file_extension": ".jl",
   "mimetype": "application/julia",
   "name": "julia",
   "version": "1.11.5"
  }
 },
 "nbformat": 4,
 "nbformat_minor": 2
}
