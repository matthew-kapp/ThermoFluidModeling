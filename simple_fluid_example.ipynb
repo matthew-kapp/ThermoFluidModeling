{
 "cells": [
  {
   "cell_type": "code",
   "execution_count": 62,
   "metadata": {},
   "outputs": [],
   "source": [
    "using ModelingToolkit, OrdinaryDiffEq\n",
    "using ModelingToolkit: t_nounits as t\n",
    "using CoolProp.CoolProp: PropsSI"
   ]
  },
  {
   "cell_type": "code",
   "execution_count": 63,
   "metadata": {},
   "outputs": [
    {
     "name": "stdout",
     "output_type": "stream",
     "text": [
      "67.30013202474123\n",
      "String\n"
     ]
    }
   ],
   "source": [
    "# Helper functions\n",
    "function calc_ρ(T, p, fluid_name)\n",
    "    return PropsSI(\"D\", \"T\", T, \"P\", p, String(fluid_name))\n",
    "end\n",
    "\n",
    "@register_symbolic calc_ρ(T::Real, p::Real, fluid_name::String);\n",
    "\n",
    "# Fluid parameters\n",
    "fluid_name = \"Hydrogen\"\n",
    "T_in = 70               # K\n",
    "p_in = 350e5           # Pa\n",
    "\n",
    "# MTK model\n",
    "@mtkmodel DensityCalc begin\n",
    "\n",
    "    @parameters begin\n",
    "        T\n",
    "        p\n",
    "        fluid_name::String\n",
    "    end\n",
    "\n",
    "    @variables begin\n",
    "        ρ(t)\n",
    "    end\n",
    "\n",
    "    @equations begin\n",
    "        ρ ~ calc_ρ(T, p, fluid_name)\n",
    "    end\n",
    "end\n",
    "\n",
    "# Solve\n",
    "@mtkbuild sys = DensityCalc(; T=T_in, p=p_in, fluid_name=fluid_name)\n",
    "prob = ODEProblem(sys, [], (0, 10.0))\n",
    "sol = solve(prob, Tsit5())\n",
    "\n",
    "# Display\n",
    "println(sol[sys.ρ][end])\n",
    "println(typeof(fluid_name))"
   ]
  },
  {
   "cell_type": "code",
   "execution_count": 64,
   "metadata": {},
   "outputs": [
    {
     "data": {
      "text/latex": [
       "$$ \\begin{align}\n",
       "\\rho\\left( t \\right) &= calc\\_\\rho\\left( T, p, \\mathtt{fluid\\_name} \\right)\n",
       "\\end{align}\n",
       " $$"
      ],
      "text/plain": [
       "\u001b[0m\u001b[1mModel sys_:\u001b[22m\n",
       "\u001b[0m\u001b[1mEquations (1):\u001b[22m\n",
       "  1 standard: see equations(sys_)\n",
       "\u001b[0m\u001b[1mUnknowns (1):\u001b[22m see unknowns(sys_)\n",
       "  ρ(t)\n",
       "\u001b[0m\u001b[1mParameters (3):\u001b[22m see parameters(sys_)\n",
       "  T [defaults to 70]\n",
       "  p [defaults to 3.5e7]\n",
       "  fluid_name [defaults to \"Hydrogen\"]"
      ]
     },
     "metadata": {},
     "output_type": "display_data"
    }
   ],
   "source": [
    "@named sys_ = DensityCalc(; T=T_in, p=p_in, fluid_name=fluid_name)"
   ]
  },
  {
   "cell_type": "code",
   "execution_count": 65,
   "metadata": {},
   "outputs": [
    {
     "data": {
      "text/latex": [
       "$$ \\begin{align}\n",
       "\\rho\\left( t \\right) &= calc\\_\\rho\\left( T, p, \\mathtt{fluid\\_name} \\right)\n",
       "\\end{align}\n",
       " $$"
      ],
      "text/plain": [
       "\u001b[0m\u001b[1mModel sys_:\u001b[22m\n",
       "\u001b[0m\u001b[1mEquations (1):\u001b[22m\n",
       "  1 standard: see equations(sys_)\n",
       "\u001b[0m\u001b[1mUnknowns (1):\u001b[22m see unknowns(sys_)\n",
       "  ρ(t)\n",
       "\u001b[0m\u001b[1mParameters (3):\u001b[22m see parameters(sys_)\n",
       "  p [defaults to 3.5e7]\n",
       "  T [defaults to 70]\n",
       "  fluid_name [defaults to \"Hydrogen\"]"
      ]
     },
     "metadata": {},
     "output_type": "display_data"
    }
   ],
   "source": [
    "sys = complete(sys_)"
   ]
  },
  {
   "cell_type": "code",
   "execution_count": 66,
   "metadata": {},
   "outputs": [
    {
     "data": {
      "text/latex": [
       "$$ \\begin{align}\n",
       "\\end{align}\n",
       " $$"
      ],
      "text/plain": [
       "\u001b[0m\u001b[1mModel sys_:\u001b[22m\n",
       "\u001b[0m\u001b[1mParameters (3):\u001b[22m see parameters(sys_)\n",
       "  p [defaults to 3.5e7]\n",
       "  T [defaults to 70]\n",
       "  fluid_name [defaults to \"Hydrogen\"]\n",
       "\u001b[0m\u001b[1mObserved (1):\u001b[22m see observed(sys_)"
      ]
     },
     "metadata": {},
     "output_type": "display_data"
    }
   ],
   "source": [
    "sys = structural_simplify(sys_)"
   ]
  },
  {
   "cell_type": "code",
   "execution_count": 67,
   "metadata": {},
   "outputs": [
    {
     "name": "stdout",
     "output_type": "stream",
     "text": [
      "67.30013202474123\n"
     ]
    }
   ],
   "source": [
    "prob = ODEProblem(sys, [], (0, 10.0))\n",
    "sol = solve(prob, Tsit5())\n",
    "println(sol[sys.ρ][end])"
   ]
  }
 ],
 "metadata": {
  "kernelspec": {
   "display_name": "Julia 1.11.5",
   "language": "julia",
   "name": "julia-1.11"
  },
  "language_info": {
   "file_extension": ".jl",
   "mimetype": "application/julia",
   "name": "julia",
   "version": "1.11.5"
  }
 },
 "nbformat": 4,
 "nbformat_minor": 2
}
