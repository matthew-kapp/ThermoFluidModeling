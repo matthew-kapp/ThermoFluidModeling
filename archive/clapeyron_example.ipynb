{
 "cells": [
  {
   "cell_type": "code",
   "execution_count": 3,
   "metadata": {},
   "outputs": [
    {
     "name": "stdout",
     "output_type": "stream",
     "text": [
      "1744.7097697458275\n",
      "70.0\n"
     ]
    }
   ],
   "source": [
    "## Imports\n",
    "using Clapeyron\n",
    "\n",
    "# Fluid parameters\n",
    "fluid_model = SingleFluid(\"Hydrogen\")\n",
    "T_in = 70               # K\n",
    "p_in = 350e5           # Pa\n",
    "\n",
    "# Works: p, T --> h\n",
    "h = enthalpy(fluid_model, p_in, T_in)\n",
    "println(h)\n",
    "\n",
    "# Works: p, h --> T\n",
    "T = Tproperty(fluid_model, p_in, h)\n",
    "println(T)"
   ]
  },
  {
   "cell_type": "code",
   "execution_count": 4,
   "metadata": {},
   "outputs": [
    {
     "name": "stdout",
     "output_type": "stream",
     "text": [
      "NaN"
     ]
    }
   ],
   "source": [
    "T = Clapeyron.PH.mass_density(fluid_model, p_in, h)\n",
    "print(T)"
   ]
  }
 ],
 "metadata": {
  "kernelspec": {
   "display_name": "Julia 1.11.5",
   "language": "julia",
   "name": "julia-1.11"
  },
  "language_info": {
   "file_extension": ".jl",
   "mimetype": "application/julia",
   "name": "julia",
   "version": "1.11.5"
  }
 },
 "nbformat": 4,
 "nbformat_minor": 2
}
