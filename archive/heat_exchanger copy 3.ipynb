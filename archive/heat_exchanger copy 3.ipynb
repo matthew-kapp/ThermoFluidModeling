{
 "cells": [
  {
   "cell_type": "code",
   "execution_count": 116,
   "metadata": {},
   "outputs": [],
   "source": [
    "using ModelingToolkit, OrdinaryDiffEq\n",
    "using ModelingToolkit: t_nounits as t, D_nounits as D\n",
    "\n",
    "using CoolProp.CoolProp: PropsSI\n",
    "using BenchmarkTools\n",
    "using Plots"
   ]
  },
  {
   "cell_type": "code",
   "execution_count": 117,
   "metadata": {},
   "outputs": [
    {
     "data": {
      "text/plain": [
       "\"Parahydrogen\""
      ]
     },
     "metadata": {},
     "output_type": "display_data"
    }
   ],
   "source": [
    "global fluid_name\n",
    "fluid_name = \"Parahydrogen\""
   ]
  },
  {
   "cell_type": "code",
   "execution_count": 118,
   "metadata": {},
   "outputs": [],
   "source": [
    "# First define the temperature calculation function\n",
    "function calc_T(h, p)\n",
    "    return PropsSI(\"T\", \"H\", h, \"P\", p, fluid_name)\n",
    "end\n",
    "\n",
    "# Register the function for symbolic use\n",
    "@register_symbolic calc_T(h::Real, p::Real)\n",
    "\n",
    "\n",
    "@connector FluidPort begin\n",
    "    @variables begin\n",
    "        h(t), [guess=0.0]\n",
    "        p(t), [guess=0.0]\n",
    "        ṁ(t), [guess=0.0, connect = Flow]\n",
    "    end\n",
    "end\n",
    "\n",
    "@mtkmodel Source begin\n",
    "    @parameters begin\n",
    "        h_source\n",
    "        p_source\n",
    "        ṁ_source\n",
    "    end\n",
    "\n",
    "    @components begin\n",
    "        outlet = FluidPort()\n",
    "    end\n",
    "\n",
    "    @equations begin\n",
    "        outlet.h ~ h_source\n",
    "        outlet.p ~ p_source\n",
    "        outlet.ṁ ~ ṁ_source\n",
    "    end\n",
    "end\n",
    "\n",
    "@mtkmodel Sink begin\n",
    "\n",
    "    @components begin\n",
    "        inlet = FluidPort()\n",
    "    end\n",
    "\n",
    "end\n",
    "\n",
    "@mtkmodel Heater begin\n",
    "\n",
    "    @components begin\n",
    "        inlet = FluidPort()\n",
    "        outlet = FluidPort()\n",
    "    end\n",
    "\n",
    "    @parameters begin\n",
    "        T_Al            \n",
    "        dL            \n",
    "        UA_over_dL\n",
    "    end\n",
    "\n",
    "    @variables begin\n",
    "        T(t)\n",
    "        Q̇(t)\n",
    "    end\n",
    "\n",
    "    @equations begin\n",
    "        T ~ calc_T(inlet.h, inlet.p)\n",
    "        Q̇ ~ UA_over_dL*dL*(T_Al - T)\n",
    "        outlet.h ~ inlet.h + Q̇/outlet.ṁ\n",
    "        outlet.p ~ inlet.p\n",
    "        outlet.ṁ + inlet.ṁ ~ 0 \n",
    "    end\n",
    "end\n",
    "\n",
    "@mtkmodel System begin\n",
    "    @parameters begin\n",
    "        h_source\n",
    "        p_source\n",
    "        ṁ_source\n",
    "        T_Al      \n",
    "        dL            \n",
    "        UA_over_dL\n",
    "    end\n",
    "\n",
    "    @components begin\n",
    "        source = Source(; h_source=h_source, p_source=p_source, ṁ_source=ṁ_source)\n",
    "        heater = Heater(; T_Al=T_Al, dL=dL, UA_over_dL=UA_over_dL)\n",
    "        sink = Sink()\n",
    "    end\n",
    "\n",
    "    @equations begin\n",
    "        connect(source.outlet, heater.inlet)\n",
    "        connect(heater.outlet, sink.inlet)\n",
    "    end\n",
    "end;"
   ]
  },
  {
   "cell_type": "code",
   "execution_count": 119,
   "metadata": {},
   "outputs": [],
   "source": [
    "## Inputs\n",
    "# Fluid parameters\n",
    "ṁ = 10e-3            # kg/s\n",
    "T_in = 70               # K\n",
    "p_in = 350e5           # Pa\n",
    "h_in = PropsSI(\"H\", \"T\", T_in, \"P\", p_in, fluid_name);\n",
    "\n",
    "# Wall parameters\n",
    "T_Al = 50 + 273.15      # K\n",
    "L = 10.0                 # m\n",
    "dL = 0.1                # m\n",
    "UA_over_dL = 100.0;"
   ]
  },
  {
   "cell_type": "code",
   "execution_count": 120,
   "metadata": {},
   "outputs": [
    {
     "name": "stderr",
     "output_type": "stream",
     "text": [
      "┌ Warning: outlet contains 1 flow variables, yet 2 regular (non-flow, non-stream, non-input, non-output) variables. This could lead to imbalanced model that are difficult to debug. Consider marking some of the regular variables as input/output variables.\n",
      "└ @ ModelingToolkit C:\\Users\\matth\\.julia\\packages\\ModelingToolkit\\aau6A\\src\\systems\\connectors.jl:54\n",
      "┌ Warning: inlet contains 1 flow variables, yet 2 regular (non-flow, non-stream, non-input, non-output) variables. This could lead to imbalanced model that are difficult to debug. Consider marking some of the regular variables as input/output variables.\n",
      "└ @ ModelingToolkit C:\\Users\\matth\\.julia\\packages\\ModelingToolkit\\aau6A\\src\\systems\\connectors.jl:54\n",
      "┌ Warning: outlet contains 1 flow variables, yet 2 regular (non-flow, non-stream, non-input, non-output) variables. This could lead to imbalanced model that are difficult to debug. Consider marking some of the regular variables as input/output variables.\n",
      "└ @ ModelingToolkit C:\\Users\\matth\\.julia\\packages\\ModelingToolkit\\aau6A\\src\\systems\\connectors.jl:54\n",
      "┌ Warning: inlet contains 1 flow variables, yet 2 regular (non-flow, non-stream, non-input, non-output) variables. This could lead to imbalanced model that are difficult to debug. Consider marking some of the regular variables as input/output variables.\n",
      "└ @ ModelingToolkit C:\\Users\\matth\\.julia\\packages\\ModelingToolkit\\aau6A\\src\\systems\\connectors.jl:54\n"
     ]
    },
    {
     "data": {
      "text/latex": [
       "$$ \\begin{align}\n",
       "\\end{align}\n",
       " $$"
      ],
      "text/plain": [
       "\u001b[0m\u001b[1mModel sys:\u001b[22m\n",
       "\u001b[0m\u001b[1mParameters (12):\u001b[22m see parameters(sys)\n",
       "  source₊ṁ_source [defaults to ṁ_source]\n",
       "  source₊p_source [defaults to p_source]\n",
       "  ṁ_source [defaults to 0.01]\n",
       "  heater₊T_Al [defaults to T_Al]\n",
       "\u001b[0m  ⋮\n",
       "\u001b[0m\u001b[1mObserved (14):\u001b[22m see observed(sys)"
      ]
     },
     "metadata": {},
     "output_type": "display_data"
    }
   ],
   "source": [
    "@mtkbuild sys = System(; h_source=h_in, p_source=p_in, ṁ_source=ṁ, T_Al=T_Al, dL=dL, UA_over_dL=UA_over_dL)"
   ]
  },
  {
   "cell_type": "code",
   "execution_count": 121,
   "metadata": {},
   "outputs": [],
   "source": [
    "prob = ODEProblem(sys, [], (0, 10.0))\n",
    "sol = solve(prob, Tsit5());"
   ]
  },
  {
   "cell_type": "code",
   "execution_count": 122,
   "metadata": {},
   "outputs": [
    {
     "name": "stdout",
     "output_type": "stream",
     "text": [
      "872335.6641158205\n",
      "1.1254856641163882e6\n",
      "69.99999999943222\n"
     ]
    }
   ],
   "source": [
    "println(h_in)\n",
    "println(sol[sys.heater.outlet.h][end])\n",
    "println(sol[sys.heater.T][end])"
   ]
  }
 ],
 "metadata": {
  "kernelspec": {
   "display_name": "Julia 1.11.5",
   "language": "julia",
   "name": "julia-1.11"
  },
  "language_info": {
   "file_extension": ".jl",
   "mimetype": "application/julia",
   "name": "julia",
   "version": "1.11.5"
  }
 },
 "nbformat": 4,
 "nbformat_minor": 2
}
