{
 "cells": [
  {
   "cell_type": "code",
   "execution_count": 82,
   "metadata": {},
   "outputs": [],
   "source": [
    "using Revise"
   ]
  },
  {
   "cell_type": "code",
   "execution_count": 83,
   "metadata": {},
   "outputs": [],
   "source": [
    "using ModelingToolkit, OrdinaryDiffEq\n",
    "using ModelingToolkit: t_nounits as t\n",
    "using CoolProp.CoolProp: PropsSI"
   ]
  },
  {
   "cell_type": "code",
   "execution_count": 84,
   "metadata": {},
   "outputs": [
    {
     "name": "stdout",
     "output_type": "stream",
     "text": [
      "67.30013202474123\n"
     ]
    }
   ],
   "source": [
    "# Helper functions\n",
    "function calc_ρ(T, p, fluid_name)\n",
    "    return PropsSI(\"D\", \"T\", T, \"P\", p, fluid_name)\n",
    "end\n",
    "\n",
    "@register_symbolic calc_ρ(T::Real, p::Real, fluid_name::String);\n",
    "\n",
    "# MTK model\n",
    "@mtkmodel DensityCalc begin\n",
    "\n",
    "    @parameters begin\n",
    "        T\n",
    "        p\n",
    "        fluid_name::String\n",
    "    end\n",
    "\n",
    "    @variables begin\n",
    "        ρ(t)\n",
    "    end\n",
    "\n",
    "    @equations begin\n",
    "        ρ ~ calc_ρ(T, p, fluid_name)\n",
    "    end\n",
    "end\n",
    "\n",
    "# Fluid parameters\n",
    "fluid_name = \"Hydrogen\"\n",
    "T_in = 70               # K\n",
    "p_in = 350e5           # Pa\n",
    "\n",
    "# Solve\n",
    "@mtkbuild sys = DensityCalc(; T=T_in, p=p_in, fluid_name=fluid_name)\n",
    "prob = ODEProblem(sys, [], (0, 10.0))\n",
    "sol = solve(prob, Tsit5())\n",
    "\n",
    "# Display\n",
    "println(sol[sys.ρ][end])"
   ]
  }
 ],
 "metadata": {
  "kernelspec": {
   "display_name": "Julia 1.11.4",
   "language": "julia",
   "name": "julia-1.11"
  },
  "language_info": {
   "file_extension": ".jl",
   "mimetype": "application/julia",
   "name": "julia",
   "version": "1.11.4"
  }
 },
 "nbformat": 4,
 "nbformat_minor": 2
}
