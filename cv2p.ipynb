{
 "cells": [
  {
   "cell_type": "code",
   "execution_count": 11,
   "metadata": {},
   "outputs": [],
   "source": [
    "using CoolProp\n",
    "\n",
    "\"\"\"\n",
    "    calculate_cv_2phase(fluid::String, T::Real, x::Real)\n",
    "\n",
    "Calculate the two-phase specific heat capacity at constant volume for a given fluid.\n",
    "\n",
    "Parameters:\n",
    "- fluid: String name of the fluid (e.g., \"Hydrogen\")\n",
    "- T: Temperature in K\n",
    "- x: Quality (vapor fraction) between 0 and 1\n",
    "\n",
    "Returns:\n",
    "- cv_2p: Two-phase specific heat capacity at constant volume [J/kg-K]\n",
    "\"\"\"\n",
    "function calculate_cv_2phase(fluid::String, T::Real, x::Real)\n",
    "    # Input validation\n",
    "    if x < 0 || x > 1\n",
    "        throw(ArgumentError(\"Quality must be between 0 and 1\"))\n",
    "    end\n",
    "    \n",
    "    # Create the fluid string for CoolProp\n",
    "    fluid_str = fluid\n",
    "    \n",
    "    # Get saturated properties at temperature T\n",
    "    Psat = PropsSI(\"P\", \"T\", T, \"Q\", 0, fluid_str)  # Saturation pressure\n",
    "    \n",
    "    # Get liquid and vapor specific heats\n",
    "    cv_l = PropsSI(\"CVMASS\", \"T\", T, \"Q\", 0, fluid_str)  # Saturated liquid Cv\n",
    "    cv_v = PropsSI(\"CVMASS\", \"T\", T, \"Q\", 1, fluid_str)  # Saturated vapor Cv\n",
    "    \n",
    "    # Get specific volumes\n",
    "    rho_l = PropsSI(\"D\", \"T\", T, \"Q\", 0, fluid_str)  # Saturated liquid density\n",
    "    rho_v = PropsSI(\"D\", \"T\", T, \"Q\", 1, fluid_str)  # Saturated vapor density\n",
    "    v_l = 1/rho_l\n",
    "    v_v = 1/rho_v\n",
    "    v_fg = v_v - v_l\n",
    "    \n",
    "    # Get enthalpies\n",
    "    h_l = PropsSI(\"H\", \"T\", T, \"Q\", 0, fluid_str)  # Saturated liquid enthalpy\n",
    "    h_v = PropsSI(\"H\", \"T\", T, \"Q\", 1, fluid_str)  # Saturated vapor enthalpy\n",
    "    h_fg = h_v - h_l\n",
    "    \n",
    "    # Calculate dhfg/dT using finite difference\n",
    "    δT = 0.1  # Small temperature difference for derivative\n",
    "    h_fg_plus = PropsSI(\"H\", \"T\", T + δT, \"Q\", 1, fluid_str) - \n",
    "                PropsSI(\"H\", \"T\", T + δT, \"Q\", 0, fluid_str)\n",
    "    dhfg_dT = (h_fg_plus - h_fg) / δT\n",
    "    \n",
    "    # Calculate two-phase specific heat\n",
    "    cv_2p = (1-x)*cv_l + x*cv_v #+ x*(1-x)*(dhfg_dT^2)*T/(Psat*v_fg)\n",
    "    \n",
    "    return cv_2p\n",
    "end;"
   ]
  },
  {
   "cell_type": "code",
   "execution_count": 12,
   "metadata": {},
   "outputs": [
    {
     "name": "stdout",
     "output_type": "stream",
     "text": [
      "Two-phase Cv at T = 20.0 K and x = 0.5: 6043.472903681015 J/kg-K\n"
     ]
    }
   ],
   "source": [
    "# Example usage\n",
    "T = 20.0  # Temperature in K\n",
    "x = 0.5   # Quality (vapor fraction)\n",
    "cv_2p = calculate_cv_2phase(\"ParaHydrogen\", T, x)\n",
    "println(\"Two-phase Cv at T = $T K and x = $x: $cv_2p J/kg-K\")"
   ]
  },
  {
   "cell_type": "code",
   "execution_count": 13,
   "metadata": {},
   "outputs": [
    {
     "name": "stdout",
     "output_type": "stream",
     "text": [
      "7066.31499560025"
     ]
    }
   ],
   "source": [
    "cv = PropsSI(\"CVMASS\", \"T\", T, \"Q\", x, \"ParaHydrogen\")\n",
    "print(cv)"
   ]
  }
 ],
 "metadata": {
  "kernelspec": {
   "display_name": "Julia 1.11.4",
   "language": "julia",
   "name": "julia-1.11"
  },
  "language_info": {
   "file_extension": ".jl",
   "mimetype": "application/julia",
   "name": "julia",
   "version": "1.11.4"
  }
 },
 "nbformat": 4,
 "nbformat_minor": 2
}
