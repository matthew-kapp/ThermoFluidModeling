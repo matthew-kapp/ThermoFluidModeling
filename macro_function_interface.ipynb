{
 "cells": [
  {
   "cell_type": "code",
   "execution_count": 10,
   "metadata": {},
   "outputs": [],
   "source": [
    "using Revise"
   ]
  },
  {
   "cell_type": "code",
   "execution_count": 11,
   "metadata": {},
   "outputs": [],
   "source": [
    "using ModelingToolkit, OrdinaryDiffEq\n",
    "using ModelingToolkit: t_nounits as t, D_nounits as D"
   ]
  },
  {
   "cell_type": "code",
   "execution_count": 12,
   "metadata": {},
   "outputs": [
    {
     "ename": "LoadError",
     "evalue": "ArgumentError: Differential(t)(y(t)) ~ broadcast(*, Ref(d), y(t)) is not a parameter.",
     "output_type": "error",
     "traceback": [
      "ArgumentError: Differential(t)(y(t)) ~ broadcast(*, Ref(d), y(t)) is not a parameter.",
      "",
      "Stacktrace:",
      "  [1] check_parameters",
      "    @ C:\\Users\\matth\\.julia\\packages\\ModelingToolkit\\Ljerk\\src\\utils.jl:127 [inlined]",
      "  [2] ODESystem(tag::UInt64, deqs::Vector{Equation}, iv::SymbolicUtils.BasicSymbolic{Real}, dvs::Vector{SymbolicUtils.BasicSymbolic{Vector{Real}}}, ps::Vector{Equation}, tspan::Nothing, var_to_name::Dict{Any, Any}, ctrls::Vector{Any}, observed::Vector{Equation}, constraints::Nothing, costs::Vector{Any}, consolidate::Nothing, tgrad::Base.RefValue{Vector{Num}}, jac::Base.RefValue{Any}, ctrl_jac::Base.RefValue{Any}, Wfact::Base.RefValue{Matrix{Num}}, Wfact_t::Base.RefValue{Matrix{Num}}, name::Symbol, description::String, systems::Vector{ODESystem}, defaults::Dict{Any, Any}, guesses::Dict{Any, Any}, torn_matching::Nothing, initializesystem::Nothing, initialization_eqs::Vector{Equation}, schedule::Nothing, connector_type::Nothing, preface::Nothing, cevents::Vector{ModelingToolkit.SymbolicContinuousCallback}, devents::Vector{ModelingToolkit.SymbolicDiscreteCallback}, parameter_dependencies::Vector{Equation}, assertions::Dict{SymbolicUtils.BasicSymbolic, Any}, metadata::Nothing, gui_metadata::Nothing, is_dde::Bool, tstops::Vector{Any}, tearing_state::Nothing, substitutions::Nothing, namespacing::Bool, complete::Bool, index_cache::Nothing, discrete_subsystems::Nothing, solved_unknowns::Nothing, split_idxs::Nothing, ignored_connections::Nothing, parent::Nothing; checks::Bool)",
      "    @ ModelingToolkit C:\\Users\\matth\\.julia\\packages\\ModelingToolkit\\Ljerk\\src\\systems\\diffeqs\\odesystem.jl:227",
      "  [3] ODESystem",
      "    @ C:\\Users\\matth\\.julia\\packages\\ModelingToolkit\\Ljerk\\src\\systems\\diffeqs\\odesystem.jl:211 [inlined]",
      "  [4] ODESystem(deqs::Vector{Equation}, iv::Num, dvs::Vector{Symbolics.Arr{Num, 1}}, ps::Vector{Equation}; controls::Vector{Num}, observed::Vector{Equation}, constraintsystem::Nothing, costs::Vector{Num}, consolidate::Nothing, systems::Vector{ODESystem}, tspan::Nothing, name::Symbol, description::String, default_u0::Dict{Any, Any}, default_p::Dict{Any, Any}, defaults::Dict{Any, Any}, guesses::Dict{Any, Any}, initializesystem::Nothing, initialization_eqs::Vector{Equation}, schedule::Nothing, connector_type::Nothing, preface::Nothing, continuous_events::Nothing, discrete_events::Nothing, parameter_dependencies::Vector{Equation}, assertions::Dict{Any, Any}, checks::Bool, metadata::Nothing, gui_metadata::Nothing, is_dde::Nothing, tstops::Vector{Any}, discover_from_metadata::Bool)",
      "    @ ModelingToolkit C:\\Users\\matth\\.julia\\packages\\ModelingToolkit\\Ljerk\\src\\systems\\diffeqs\\odesystem.jl:343",
      "  [5] macro expansion",
      "    @ .\\In[12]:13 [inlined]",
      "  [6] (::var\"#14#15\"{Int64, Num})()",
      "    @ Main C:\\Users\\matth\\.julia\\packages\\ModelingToolkit\\Ljerk\\src\\systems\\abstractsystem.jl:2463",
      "  [7] Subsystem(; B::Int64, d::Num, name::Symbol)",
      "    @ Main C:\\Users\\matth\\.julia\\packages\\ModelingToolkit\\Ljerk\\src\\systems\\abstractsystem.jl:2463",
      "  [8] macro expansion",
      "    @ C:\\Users\\matth\\.julia\\packages\\ModelingToolkit\\Ljerk\\src\\systems\\abstractsystem.jl:2295 [inlined]",
      "  [9] __Example2__(; name::Symbol, A::Int64, B::Int64, c::Float64, d::Float64, subsystem__B::Nothing, subsystem__d::Nothing)",
      "    @ Main C:\\Users\\matth\\.julia\\packages\\ModelingToolkit\\Ljerk\\src\\systems\\model_parsing.jl:931",
      " [10] __Example2__",
      "    @ C:\\Users\\matth\\.julia\\packages\\ModelingToolkit\\Ljerk\\src\\systems\\model_parsing.jl:151 [inlined]",
      " [11] #_#419",
      "    @ C:\\Users\\matth\\.julia\\packages\\ModelingToolkit\\Ljerk\\src\\systems\\model_parsing.jl:25 [inlined]",
      " [12] top-level scope",
      "    @ C:\\Users\\matth\\.julia\\packages\\ModelingToolkit\\Ljerk\\src\\systems\\abstractsystem.jl:2295"
     ]
    }
   ],
   "source": [
    "@component function Subsystem(; B, d, name)\n",
    "\n",
    "    B_ = Int(B)\n",
    "\n",
    "    vars = @variables begin\n",
    "        (y(t))[1:B_]\n",
    "    end\n",
    "\n",
    "    eqs = [\n",
    "        D(y) ~ d*y\n",
    "    ]\n",
    "\n",
    "    ODESystem(eqs, t, vars, eqs; name)\n",
    "end\n",
    "\n",
    "@mtkmodel Example2 begin\n",
    "    \n",
    "    @structural_parameters begin\n",
    "        A = 1\n",
    "        B = 2\n",
    "    end\n",
    "\n",
    "    @parameters begin\n",
    "        c\n",
    "        d\n",
    "    end\n",
    "\n",
    "    @components begin\n",
    "        subsystem = Subsystem(B=B, d=d)\n",
    "    end\n",
    "end\n",
    "\n",
    "A = 10\n",
    "B = 20\n",
    "c = 4.67\n",
    "d = 2.34\n",
    "\n",
    "@mtkbuild correct_method = Example2(A=A, B=B, c=c, d=d)"
   ]
  }
 ],
 "metadata": {
  "kernelspec": {
   "display_name": "Julia 1.11.4",
   "language": "julia",
   "name": "julia-1.11"
  },
  "language_info": {
   "file_extension": ".jl",
   "mimetype": "application/julia",
   "name": "julia",
   "version": "1.11.4"
  }
 },
 "nbformat": 4,
 "nbformat_minor": 2
}
